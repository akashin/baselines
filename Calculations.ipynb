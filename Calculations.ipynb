{
 "cells": [
  {
   "cell_type": "code",
   "execution_count": 57,
   "metadata": {
    "collapsed": true
   },
   "outputs": [],
   "source": [
    "import pandas as pd\n",
    "import collections\n",
    "\n",
    "import pint\n",
    "u = pint.UnitRegistry(auto_reduce_dimensions=True)"
   ]
  },
  {
   "cell_type": "code",
   "execution_count": 67,
   "metadata": {},
   "outputs": [
    {
     "name": "stdout",
     "output_type": "stream",
     "text": [
      "1851.851851851852 / second\n",
      "1620.3703703703704 / second\n"
     ]
    }
   ],
   "source": [
    "LearningCurve = collections.namedtuple('LearningCurve', 'frames time')\n",
    "\n",
    "data = [\n",
    "    LearningCurve(frames=300 * 10**6, time=45 * u.hour),\n",
    "    LearningCurve(frames=700 * 10**6, time=120 * u.hour)\n",
    "]\n",
    "\n",
    "for m in data:\n",
    "    print(m.frames / m.time)"
   ]
  },
  {
   "cell_type": "markdown",
   "metadata": {},
   "source": [
    "Our experimental setup uses 16 actor-learner threads running on a single machine with no GPUs. We\n",
    "adopt the same input pre-processing and network architecture as Mnih et al. (2015). Specifically,\n",
    "the network consists of a convolutional layer with 32 8 × 8 filters with stride 4 followed by another\n",
    "convolutional layer with 64 4 × 4 filters with stride 2, followed by a final convolutional layer with 64\n",
    "3 × 3 filters with stride 1, followed by a fully-connected layer of size 512. Each of the hidden layers\n",
    "is followed by a rectifier nonlinearity. The network outputs a softmax policy and Q values."
   ]
  },
  {
   "cell_type": "code",
   "execution_count": 66,
   "metadata": {},
   "outputs": [
    {
     "name": "stdout",
     "output_type": "stream",
     "text": [
      "Actor fps: 106.25 / second\n"
     ]
    }
   ],
   "source": [
    "actor_count = 16\n",
    "fps_total = 1700 / u.second\n",
    "fps_actor = fps_total / actor_count\n",
    "print(\"Actor fps: {}\".format(fps_actor))"
   ]
  },
  {
   "cell_type": "code",
   "execution_count": 72,
   "metadata": {
    "collapsed": true
   },
   "outputs": [],
   "source": [
    "Performance = collections.namedtuple('Performance', 'device inference training batch_size tf_threads fps')"
   ]
  },
  {
   "cell_type": "code",
   "execution_count": 95,
   "metadata": {
    "collapsed": true
   },
   "outputs": [],
   "source": [
    "perf_data = [\n",
    "    Performance(device='CPU', inference=True, training=True, batch_size=1, tf_threads=8, fps=25),\n",
    "    Performance(device='CPU', inference=True, training=True, batch_size=1, tf_threads=1, fps=50),\n",
    "    Performance(device='CPU', inference=True, training=True, batch_size=2, tf_threads=1, fps=34),\n",
    "    Performance(device='CPU', inference=True, training=True, batch_size=4, tf_threads=1, fps=30),\n",
    "    Performance(device='CPU', inference=True, training=True, batch_size=8, tf_threads=1, fps=24),\n",
    "    Performance(device='CPU', inference=True, training=True, batch_size=16, tf_threads=1, fps=17),\n",
    "    Performance(device='CPU', inference=True, training=True, batch_size=32, tf_threads=1, fps=13),\n",
    "    Performance(device='CPU', inference=True, training=True, batch_size=64, tf_threads=1, fps=6),\n",
    "]"
   ]
  },
  {
   "cell_type": "code",
   "execution_count": 96,
   "metadata": {},
   "outputs": [
    {
     "data": {
      "text/html": [
       "<div>\n",
       "<table border=\"1\" class=\"dataframe\">\n",
       "  <thead>\n",
       "    <tr style=\"text-align: right;\">\n",
       "      <th></th>\n",
       "      <th>0</th>\n",
       "      <th>1</th>\n",
       "      <th>2</th>\n",
       "      <th>3</th>\n",
       "      <th>4</th>\n",
       "      <th>5</th>\n",
       "    </tr>\n",
       "  </thead>\n",
       "  <tbody>\n",
       "    <tr>\n",
       "      <th>0</th>\n",
       "      <td>CPU</td>\n",
       "      <td>True</td>\n",
       "      <td>True</td>\n",
       "      <td>1</td>\n",
       "      <td>8</td>\n",
       "      <td>25</td>\n",
       "    </tr>\n",
       "    <tr>\n",
       "      <th>1</th>\n",
       "      <td>CPU</td>\n",
       "      <td>True</td>\n",
       "      <td>True</td>\n",
       "      <td>1</td>\n",
       "      <td>1</td>\n",
       "      <td>50</td>\n",
       "    </tr>\n",
       "    <tr>\n",
       "      <th>2</th>\n",
       "      <td>CPU</td>\n",
       "      <td>True</td>\n",
       "      <td>True</td>\n",
       "      <td>2</td>\n",
       "      <td>1</td>\n",
       "      <td>34</td>\n",
       "    </tr>\n",
       "    <tr>\n",
       "      <th>3</th>\n",
       "      <td>CPU</td>\n",
       "      <td>True</td>\n",
       "      <td>True</td>\n",
       "      <td>4</td>\n",
       "      <td>1</td>\n",
       "      <td>30</td>\n",
       "    </tr>\n",
       "    <tr>\n",
       "      <th>4</th>\n",
       "      <td>CPU</td>\n",
       "      <td>True</td>\n",
       "      <td>True</td>\n",
       "      <td>8</td>\n",
       "      <td>1</td>\n",
       "      <td>24</td>\n",
       "    </tr>\n",
       "    <tr>\n",
       "      <th>5</th>\n",
       "      <td>CPU</td>\n",
       "      <td>True</td>\n",
       "      <td>True</td>\n",
       "      <td>16</td>\n",
       "      <td>1</td>\n",
       "      <td>17</td>\n",
       "    </tr>\n",
       "    <tr>\n",
       "      <th>6</th>\n",
       "      <td>CPU</td>\n",
       "      <td>True</td>\n",
       "      <td>True</td>\n",
       "      <td>32</td>\n",
       "      <td>1</td>\n",
       "      <td>13</td>\n",
       "    </tr>\n",
       "    <tr>\n",
       "      <th>7</th>\n",
       "      <td>CPU</td>\n",
       "      <td>True</td>\n",
       "      <td>True</td>\n",
       "      <td>64</td>\n",
       "      <td>1</td>\n",
       "      <td>6</td>\n",
       "    </tr>\n",
       "  </tbody>\n",
       "</table>\n",
       "</div>"
      ],
      "text/plain": [
       "     0     1     2   3  4   5\n",
       "0  CPU  True  True   1  8  25\n",
       "1  CPU  True  True   1  1  50\n",
       "2  CPU  True  True   2  1  34\n",
       "3  CPU  True  True   4  1  30\n",
       "4  CPU  True  True   8  1  24\n",
       "5  CPU  True  True  16  1  17\n",
       "6  CPU  True  True  32  1  13\n",
       "7  CPU  True  True  64  1   6"
      ]
     },
     "execution_count": 96,
     "metadata": {},
     "output_type": "execute_result"
    }
   ],
   "source": [
    "pd.DataFrame.from_records(perf_data)"
   ]
  },
  {
   "cell_type": "code",
   "execution_count": null,
   "metadata": {
    "collapsed": true
   },
   "outputs": [],
   "source": []
  }
 ],
 "metadata": {
  "kernelspec": {
   "display_name": "Python 3",
   "language": "python",
   "name": "python3"
  },
  "language_info": {
   "codemirror_mode": {
    "name": "ipython",
    "version": 3
   },
   "file_extension": ".py",
   "mimetype": "text/x-python",
   "name": "python",
   "nbconvert_exporter": "python",
   "pygments_lexer": "ipython3",
   "version": "3.5.2"
  }
 },
 "nbformat": 4,
 "nbformat_minor": 2
}
